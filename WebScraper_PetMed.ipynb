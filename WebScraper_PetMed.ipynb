{
  "cells": [
    {
      "cell_type": "markdown",
      "metadata": {
        "id": "oySBhWIk46vj"
      },
      "source": [
        "# Scraping Wisdom Pet Medicine Website"
      ],
      "id": "oySBhWIk46vj"
    },
    {
      "cell_type": "markdown",
      "metadata": {
        "id": "tLcuVbMb46vn"
      },
      "source": [
        "### Imports- **Run First**"
      ],
      "id": "tLcuVbMb46vn"
    },
    {
      "cell_type": "code",
      "execution_count": 1,
      "metadata": {
        "id": "RkBrUSYn46vo"
      },
      "outputs": [],
      "source": [
        "#import requests packages\n",
        "import requests"
      ],
      "id": "RkBrUSYn46vo"
    },
    {
      "cell_type": "code",
      "execution_count": 2,
      "metadata": {
        "id": "bojBfpJM46vq"
      },
      "outputs": [],
      "source": [
        "#scrape data from Wisdom Pet Medicine website and save to response variable\n",
        "response = requests.get('http://www.wisdompetmed.com/')"
      ],
      "id": "bojBfpJM46vq"
    },
    {
      "cell_type": "code",
      "execution_count": 3,
      "metadata": {
        "id": "ECDybGmv46vq"
      },
      "outputs": [],
      "source": [
        "#import BeautifulSoup package\n",
        "from bs4 import BeautifulSoup"
      ],
      "id": "ECDybGmv46vq"
    },
    {
      "cell_type": "code",
      "execution_count": 4,
      "metadata": {
        "id": "fAFCaTFm46vr"
      },
      "outputs": [],
      "source": [
        "#Bring in the HTML code to BeautifulSoup\n",
        "soup = BeautifulSoup(response.text)"
      ],
      "id": "fAFCaTFm46vr"
    },
    {
      "cell_type": "markdown",
      "metadata": {
        "id": "suoSqMoV46vs"
      },
      "source": [
        "### How to loop find_all() methods"
      ],
      "id": "suoSqMoV46vs"
    },
    {
      "cell_type": "code",
      "execution_count": 6,
      "metadata": {
        "colab": {
          "base_uri": "https://localhost:8080/"
        },
        "id": "1NOYARYs46vs",
        "outputId": "a01b4c36-e9bf-40b8-a437-3f8bbf0c687f"
      },
      "outputs": [
        {
          "output_type": "stream",
          "name": "stdout",
          "text": [
            "\n",
            "During the summer, our rabbit, Tonto, began to have severe redness\n",
            " and itching on his belly and feet. Through diagnostic testing, we learned that Tonto is severely allergic to over a dozens kinds of grass pollens. We've now been doing allergy injections for several months, and his itching and redness have nearly gone away. I'm very thankful to the veterinarians and staff at Wisdom for the excellent care Tonto received, and for nipping his allergies in the bud, so to speak.\n",
            "Jane H.\n",
            "\n",
            "\n",
            "When Samantha, our Siamese cat, began sleeping all the time\n",
            "and urinating excessively, we brought her to see the specialists at Wisdom. After running a blood test, Dr. Winthrop confirmed what we all feared - Samantha was showing signs of diabetes. The doctor put us on a daily routine to provide Samantha insulin injections, and showed us how to administer the shots. We weren't sure we could do it, but the gang at Wisdom was very supportive and encouraging. Now, two years later, Samantha is still free from any complications of diabetes, and her blood sugar regularly tests normal. Thank you, Wisdom Pet Medicine!\n",
            "The McPhersons\n",
            "\n",
            "\n",
            "The staff at Wisdom worked tirelessly to determine why our three-year old\n",
            "Golden Retriever, Roxie, started going into sudden kidney failure. They stabilized her and provided fluids until her kidneys were again functioning normally, but it was still a mystery as to what caused her health to decline so quickly. The vet noted our address on Roxie's chart, and asked if we lived on one of the orchards in the vicinity, and if Roxie had a habit of eating grapes off the vine. Our answer was \"of course â she's a Retriever.\" That day we learned just how toxic grapes and raisins are to pets, and Roxie is no longer allowed to roam unattended in the orchard.\n",
            "John B\n",
            "\n",
            "\n",
            "Wisdom Pet Medicine is the only clinic around that will even\n",
            "book pet fish for appointments. When our 13-year old Comet goldfish, McAllister, turned from silvery white to an angry red, we called around, urgently trying to find a veterinarian who could help. Wisdom not only got us in the same day, but also was able to diagnose McAllister as having a severe case of septicemia. In order to kill the harmful bacteria in his blood, we had to use a dog antibiotic in his tank every day for a week, and in the end, McAllister was good as new. I still smile upon remembering Dr. Chase pulling out an old vet school textbook to calculate the correct antibiotic dose for a fish!\n",
            "Lorraine S\n",
            "\n"
          ]
        }
      ],
      "source": [
        "#find all featured testimonials\n",
        "featured_testimonial = soup.find_all('div', class_ = 'quote')\n",
        "for testimonial in featured_testimonial:\n",
        "  print(testimonial.text)"
      ],
      "id": "1NOYARYs46vs"
    },
    {
      "cell_type": "code",
      "execution_count": 7,
      "metadata": {
        "tags": [],
        "colab": {
          "base_uri": "https://localhost:8080/"
        },
        "id": "GF0msjqf46vt",
        "outputId": "606431eb-9d19-4118-8351-685019b38c86"
      },
      "outputs": [
        {
          "output_type": "stream",
          "name": "stdout",
          "text": [
            "\n",
            "Dr. Winthrop\n",
            "Dr. Winthrop is the guardian of Missy, a three-year old Llaso mix, who he adopted at the shelter. Dr. Winthrop is passionate about spay and neuter and pet adoption, and works tireless hours outside the clinic, performing free spay and neuter surgeries for the shelter.\n",
            "\n",
            "\n",
            "Dr. Chase\n",
            "Dr. Chase spends much of her free time helping the local rescue organization find homes for animals, such as Kibbles - a Maine Coon Cat who is part of the large Chase household, including two dogs, three cats, and a turtle.\n",
            "\n",
            "\n",
            "Dr Sanders\n",
            "Leroy walked into Dr. Sanders front door when he was moving into a new house. After searching for weeks for Leroy's guardians, he decided to make Leroy a part of his pet family, and now has three cats.\n",
            "\n"
          ]
        }
      ],
      "source": [
        "#find all staff members\n",
        "staff = soup.find_all(\"div\", class_=\"info col-xs-8 col-xs-offset-2 col-sm-7 col-sm-offset-0 col-md-6 col-lg-8\")\n",
        "for s in staff:\n",
        "    print(s.text)"
      ],
      "id": "GF0msjqf46vt"
    },
    {
      "cell_type": "code",
      "source": [
        "#find all links on the Wisdom Pet website\n",
        "links = soup.find_all('a')\n",
        "for link in links:\n",
        "  print(link.text, link.get('href'))"
      ],
      "metadata": {
        "colab": {
          "base_uri": "https://localhost:8080/"
        },
        "id": "AEuedB4e5vys",
        "outputId": "ede5ce9a-4c87-492e-dbe5-5a04f5651221"
      },
      "id": "AEuedB4e5vys",
      "execution_count": 8,
      "outputs": [
        {
          "output_type": "stream",
          "name": "stdout",
          "text": [
            "Wisdom Pet Medicine #featured\n",
            "Home #featured\n",
            "Mission #mission\n",
            "Services #services\n",
            "Staff #staff\n",
            "Testimonials #testimonials\n",
            "\n",
            "\n",
            " #featured\n",
            "\n",
            "\n",
            " #featured\n",
            "Lynda.com http://lynda.com\n",
            "Terms of use #\n",
            "Privacy policy #\n"
          ]
        }
      ]
    },
    {
      "cell_type": "code",
      "source": [
        "# write HTML code we pulled to a text file\n",
        "with open('wisdom_vet.txt', 'w', encoding = \"utf8\") as f:\n",
        "  f.write(soup.prettify())"
      ],
      "metadata": {
        "id": "3jtgrS2z5_xD"
      },
      "id": "3jtgrS2z5_xD",
      "execution_count": 10,
      "outputs": []
    }
  ],
  "metadata": {
    "kernelspec": {
      "display_name": "Python 3",
      "language": "python",
      "name": "python3"
    },
    "language_info": {
      "codemirror_mode": {
        "name": "ipython",
        "version": 3
      },
      "file_extension": ".py",
      "mimetype": "text/x-python",
      "name": "python",
      "nbconvert_exporter": "python",
      "pygments_lexer": "ipython3",
      "version": "3.10.4"
    },
    "colab": {
      "provenance": []
    }
  },
  "nbformat": 4,
  "nbformat_minor": 5
}